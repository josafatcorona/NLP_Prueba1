{
 "cells": [
  {
   "cell_type": "code",
   "execution_count": 5,
   "id": "edaee5e9",
   "metadata": {},
   "outputs": [],
   "source": [
    "import speech_recognition as sr"
   ]
  },
  {
   "cell_type": "markdown",
   "id": "bbb50959",
   "metadata": {},
   "source": [
    "# 1 Crear instancia de Reconomiento"
   ]
  },
  {
   "cell_type": "code",
   "execution_count": 7,
   "id": "69a86690",
   "metadata": {},
   "outputs": [],
   "source": [
    "r = sr.Recognizer()"
   ]
  },
  {
   "cell_type": "markdown",
   "id": "f10896dd",
   "metadata": {},
   "source": [
    "# 2 Seleccionar audio "
   ]
  },
  {
   "cell_type": "code",
   "execution_count": 11,
   "id": "2d8e4eb9",
   "metadata": {},
   "outputs": [],
   "source": [
    "#Si audio desde fichero\n",
    "audio_file = sr.AudioFile('audio.wav') #El fichero debe estar en la ruta del intérprete de Python\n",
    "with audio_file as source:\n",
    "    r.adjust_for_ambient_noise(source) # Calibración si el fichero tiene ruido de fondo\n",
    "    audio = r.record(source) # si solo se quiere una porción del audio: audio = r.record(source, offset=4, duration=3)"
   ]
  },
  {
   "cell_type": "code",
   "execution_count": 8,
   "id": "88d17bef",
   "metadata": {},
   "outputs": [],
   "source": [
    "# Si audio desde micrófono\n",
    "mic = sr.Microphone()"
   ]
  },
  {
   "cell_type": "code",
   "execution_count": 9,
   "id": "105bc2d1",
   "metadata": {},
   "outputs": [
    {
     "data": {
      "text/plain": [
       "['Microsoft Sound Mapper - Input',\n",
       " 'MicrÃ³fono (USB Audio Device)',\n",
       " 'Varios micrÃ³fonos (Realtek(R) A',\n",
       " 'Microsoft Sound Mapper - Output',\n",
       " 'BocinasLogitech (Realtek(R) Aud',\n",
       " 'Altavoces (Realtek(R) Audio)',\n",
       " 'Altavoces (USB Audio Device)',\n",
       " 'Primary Sound Capture Driver',\n",
       " 'MicrÃ³fono (USB Audio Device)',\n",
       " 'Varios micrÃ³fonos (Realtek(R) Audio)',\n",
       " 'Primary Sound Driver',\n",
       " 'BocinasLogitech (Realtek(R) Audio)',\n",
       " 'Altavoces (Realtek(R) Audio)',\n",
       " 'Altavoces (USB Audio Device)',\n",
       " 'Altavoces (Realtek(R) Audio)',\n",
       " 'Altavoces (USB Audio Device)',\n",
       " 'BocinasLogitech (Realtek(R) Audio)',\n",
       " 'MicrÃ³fono (USB Audio Device)',\n",
       " 'Varios micrÃ³fonos (Realtek(R) Audio)',\n",
       " 'Auriculares con micrÃ³fono (@System32\\\\drivers\\\\bthhfenum.sys,#2;%1 Hands-Free%0\\r\\n;(Bluedio))',\n",
       " 'Auriculares con micrÃ³fono (@System32\\\\drivers\\\\bthhfenum.sys,#2;%1 Hands-Free%0\\r\\n;(Bluedio))',\n",
       " 'Mezcla estÃ©reo (Realtek HD Audio Stereo input)',\n",
       " 'Speakers 1 (Realtek HD Audio output with SST)',\n",
       " 'Speakers 2 (Realtek HD Audio output with SST)',\n",
       " 'Altavoz de PC (Realtek HD Audio output with SST)',\n",
       " 'Headphones (Realtek HD Audio 2nd output)',\n",
       " 'Varios micrÃ³fonos (Realtek HD Audio Mic Array input)',\n",
       " 'MicrÃ³fono (Realtek HD Audio Mic input)',\n",
       " 'Auriculares con micrÃ³fono (@System32\\\\drivers\\\\bthhfenum.sys,#2;%1 Hands-Free%0\\r\\n;(Haylou GT1 Pro))',\n",
       " 'Auriculares con micrÃ³fono (@System32\\\\drivers\\\\bthhfenum.sys,#2;%1 Hands-Free%0\\r\\n;(Haylou GT1 Pro))',\n",
       " 'Input ()',\n",
       " 'Output (@System32\\\\drivers\\\\bthhfenum.sys,#4;%1 Hands-Free HF Audio%0\\r\\n;(Redmi Note 8 Pro))',\n",
       " 'Input (@System32\\\\drivers\\\\bthhfenum.sys,#4;%1 Hands-Free HF Audio%0\\r\\n;(Redmi Note 8 Pro))',\n",
       " 'Auriculares ()',\n",
       " 'MicrÃ³fono (USB Audio Device)',\n",
       " 'Altavoces (USB Audio Device)',\n",
       " 'Auriculares ()']"
      ]
     },
     "execution_count": 9,
     "metadata": {},
     "output_type": "execute_result"
    }
   ],
   "source": [
    "# Si se necesita seleccionar un micrófono que no sea el de por defecto\n",
    "sr.Microphone.list_microphone_names()"
   ]
  },
  {
   "cell_type": "code",
   "execution_count": 10,
   "id": "9c115108",
   "metadata": {},
   "outputs": [],
   "source": [
    "mic = sr.Microphone(device_index=2) # 6 sería el micrófono 6 del listado"
   ]
  },
  {
   "cell_type": "code",
   "execution_count": 18,
   "id": "45e2dcca",
   "metadata": {},
   "outputs": [],
   "source": [
    "with mic as source:\n",
    "    r.adjust_for_ambient_noise(source) # Calibración si el audio tiene ruido de fondo\n",
    "    audio = r.listen(source)"
   ]
  },
  {
   "cell_type": "markdown",
   "id": "1d0db8af",
   "metadata": {},
   "source": [
    "# 3 Reconocer audio a través de API"
   ]
  },
  {
   "cell_type": "code",
   "execution_count": 19,
   "id": "c612bcab",
   "metadata": {},
   "outputs": [
    {
     "data": {
      "text/plain": [
       "'la síntesis y reconocimiento de voz'"
      ]
     },
     "execution_count": 19,
     "metadata": {},
     "output_type": "execute_result"
    }
   ],
   "source": [
    "r.recognize_google(audio, language='es-ES') # Definimos la API a utilizar como método de reconocimiento, la única que no necesita login es la de Google (debemos estar conectados a internet)"
   ]
  },
  {
   "cell_type": "markdown",
   "id": "84c1cdfb",
   "metadata": {},
   "source": [
    "<h1>Sintetizador de voz</h1>"
   ]
  },
  {
   "cell_type": "code",
   "execution_count": 22,
   "id": "d484f2b9",
   "metadata": {},
   "outputs": [],
   "source": [
    "import pyttsx3"
   ]
  },
  {
   "cell_type": "markdown",
   "id": "17716c0d",
   "metadata": {},
   "source": [
    "# 1. Crear instancia sintetizador"
   ]
  },
  {
   "cell_type": "code",
   "execution_count": 23,
   "id": "87776920",
   "metadata": {},
   "outputs": [],
   "source": [
    "engine = pyttsx3.init()"
   ]
  },
  {
   "cell_type": "markdown",
   "id": "0f6bf940",
   "metadata": {},
   "source": [
    "# 2. Definir la velocidad"
   ]
  },
  {
   "cell_type": "code",
   "execution_count": 24,
   "id": "7184ade5",
   "metadata": {},
   "outputs": [],
   "source": [
    "engine.setProperty('rate', 150)    # Aquí puedes seleccionar la velocidad de la voz"
   ]
  },
  {
   "cell_type": "code",
   "execution_count": 25,
   "id": "81eb2b10",
   "metadata": {},
   "outputs": [],
   "source": [
    "# Establecemos el idioma\n",
    "\n",
    "engine.setProperty('voice','spanish')"
   ]
  },
  {
   "cell_type": "code",
   "execution_count": 26,
   "id": "a09e15b3",
   "metadata": {},
   "outputs": [],
   "source": [
    "#Sintetizar texto a voz\n",
    "def speak(text):\n",
    "    engine.say(text)\n",
    "    engine.runAndWait()\n",
    "speak(\"Buen día a todos\")"
   ]
  },
  {
   "cell_type": "code",
   "execution_count": null,
   "id": "e999e0d2",
   "metadata": {},
   "outputs": [],
   "source": []
  }
 ],
 "metadata": {
  "kernelspec": {
   "display_name": "Python 3 (ipykernel)",
   "language": "python",
   "name": "python3"
  },
  "language_info": {
   "codemirror_mode": {
    "name": "ipython",
    "version": 3
   },
   "file_extension": ".py",
   "mimetype": "text/x-python",
   "name": "python",
   "nbconvert_exporter": "python",
   "pygments_lexer": "ipython3",
   "version": "3.9.4"
  }
 },
 "nbformat": 4,
 "nbformat_minor": 5
}
