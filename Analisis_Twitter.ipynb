{
 "cells": [
  {
   "cell_type": "code",
   "execution_count": 14,
   "id": "5c8cc90d",
   "metadata": {},
   "outputs": [],
   "source": [
    "import numpy as np\n",
    "import pandas as pd\n",
    "import matplotlib.pyplot as pl\n",
    "import seaborn as sn\n",
    "import configparser\n",
    "import tweepy"
   ]
  },
  {
   "cell_type": "code",
   "execution_count": 15,
   "id": "12350fc9",
   "metadata": {},
   "outputs": [],
   "source": [
    "config=configparser.ConfigParser()"
   ]
  },
  {
   "cell_type": "code",
   "execution_count": 16,
   "id": "b4ee232f",
   "metadata": {},
   "outputs": [],
   "source": [
    "#se definen las llaves\n",
    "config.read('config/config.ini')\n",
    "api_key=config['twitter']['api_key']\n",
    "api_key_secret=config['twitter']['api_key_secret']\n",
    "access_token =config['twitter']['access_token']\n",
    "access_token_secret =config['twitter']['access_token_secret']"
   ]
  },
  {
   "cell_type": "code",
   "execution_count": 17,
   "id": "1f79dabe",
   "metadata": {},
   "outputs": [],
   "source": [
    "#authentication\n",
    "auth=tweepy.OAuthHandler(api_key,api_key_secret)\n",
    "auth.set_access_token(access_token,access_token_secret)\n",
    "api=tweepy.API(auth)"
   ]
  },
  {
   "cell_type": "code",
   "execution_count": 18,
   "id": "4120ab1e",
   "metadata": {},
   "outputs": [
    {
     "name": "stdout",
     "output_type": "stream",
     "text": [
      "Josafat\n"
     ]
    }
   ],
   "source": [
    "try:\n",
    "    user = api.verify_credentials()\n",
    "    print(user.name)\n",
    "except:\n",
    "    print(\"Error auth\")"
   ]
  },
  {
   "cell_type": "markdown",
   "id": "129a527e",
   "metadata": {},
   "source": [
    "# Insertar término de búsqueda para el Análisis de Sentimiento"
   ]
  },
  {
   "cell_type": "code",
   "execution_count": null,
   "id": "7f9f49e6",
   "metadata": {},
   "outputs": [],
   "source": [
    "#Se pregunta por la palabra a preguntar\n",
    "palabra = input(\"Buscar: \")"
   ]
  },
  {
   "cell_type": "code",
   "execution_count": null,
   "id": "09479a74",
   "metadata": {},
   "outputs": [],
   "source": [
    "#Se define la cantidad de tweets a capturar\n",
    "numero_de_Tweets = int(input(u\"Número de tweets a capturar: \"))"
   ]
  },
  {
   "cell_type": "code",
   "execution_count": null,
   "id": "b88c61f4",
   "metadata": {},
   "outputs": [],
   "source": [
    "#Se define el idioma de los tweets a analizar\n",
    "lenguaje = input(\"Idioma [es/en]:\")"
   ]
  },
  {
   "cell_type": "code",
   "execution_count": null,
   "id": "e43cc6d1",
   "metadata": {},
   "outputs": [],
   "source": [
    "for tweet in tweepy.Cursor(api.search_tweets,q=palabra,lang=lenguaje).items(10):\n",
    "    print(tweet)"
   ]
  },
  {
   "cell_type": "markdown",
   "id": "360ce081",
   "metadata": {},
   "source": [
    "# Análisis de Sentimiento con TextBlob"
   ]
  },
  {
   "cell_type": "code",
   "execution_count": null,
   "id": "4cc725cc",
   "metadata": {},
   "outputs": [],
   "source": [
    "def ObtenerTweets(palabra,num_tweets,lenguaje):\n",
    "    #Se define las listas que capturan la popularidad\n",
    "    polaridad_list = []\n",
    "    numeros_list = []\n",
    "    numero = 1\n",
    "    for tweet in tweepy.Cursor(api.search_tweets, q=palabra,tweet_mode='extended', lang=lenguaje).items(num_tweets):\n",
    "        try:\n",
    "            #Se toma el texto, se hace el analisis de sentimiento\n",
    "            #y se agrega el resultado a las listas\n",
    "            analisis = TextBlob(tweet.text)\n",
    "            analisis = analisis.sentiment\n",
    "            polaridad = analisis.polarity\n",
    "            polaridad_list.append(polaridad)\n",
    "            numeros_list.append(numero)\n",
    "            numero = numero + 1\n",
    "\n",
    "        except tweepy.TweepError as e:\n",
    "            print(e.reason)\n",
    "\n",
    "        except StopIteration:\n",
    "            break\n",
    "    return (numeros_list,polaridad_list,numero)\n"
   ]
  },
  {
   "cell_type": "markdown",
   "id": "d6d89872",
   "metadata": {},
   "source": [
    "# Visualizar Sentimiento y Categorizar"
   ]
  },
  {
   "cell_type": "code",
   "execution_count": null,
   "id": "d8d49273",
   "metadata": {},
   "outputs": [],
   "source": [
    "def GraficarDatos(numeros_list,polaridad_list,numero):\n",
    "    axes = plt.gca()\n",
    "    axes.set_ylim([-1, 2])\n",
    "    \n",
    "    plt.scatter(numeros_list, polaridad_list)\n",
    "    polaridadPromedio = (sum(polaridad_list))/(len(polaridad_list))\n",
    "    polaridadPromedio = \"{0:.2f}%\".format(polaridadPromedio * 100)\n",
    "    time  = datetime.now().strftime(\"A : %H:%M\\n El: %m-%d-%y\")\n",
    "    plt.text(0, 1.25, \n",
    "             \"Sentimiento promedio:  \" + str(polaridadPromedio) + \"\\n\" + time, \n",
    "             fontsize=12, \n",
    "             bbox = dict(facecolor='none', \n",
    "                         edgecolor='black', \n",
    "                         boxstyle='square, pad = 1'))\n",
    "    \n",
    "    plt.title(\"Sentimientos sobre \" + palabra + \" en twitter\")\n",
    "    plt.xlabel(\"Numero de tweets\")\n",
    "    plt.ylabel(\"Polaridad Sentimiento\")\n",
    "    plt.show()\n",
    "    "
   ]
  },
  {
   "cell_type": "code",
   "execution_count": null,
   "id": "1a41364c",
   "metadata": {},
   "outputs": [],
   "source": [
    "numeros_list,polaridad_list,numero = ObtenerTweets(palabra,numero_de_Tweets,lenguaje)"
   ]
  },
  {
   "cell_type": "code",
   "execution_count": null,
   "id": "cc7ab859",
   "metadata": {},
   "outputs": [],
   "source": []
  }
 ],
 "metadata": {
  "kernelspec": {
   "display_name": "Python 3 (ipykernel)",
   "language": "python",
   "name": "python3"
  },
  "language_info": {
   "codemirror_mode": {
    "name": "ipython",
    "version": 3
   },
   "file_extension": ".py",
   "mimetype": "text/x-python",
   "name": "python",
   "nbconvert_exporter": "python",
   "pygments_lexer": "ipython3",
   "version": "3.9.4"
  }
 },
 "nbformat": 4,
 "nbformat_minor": 5
}
